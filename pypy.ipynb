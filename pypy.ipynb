{
 "cells": [
  {
   "cell_type": "code",
   "execution_count": 48,
   "metadata": {},
   "outputs": [],
   "source": [
    "from selenium import webdriver\n",
    "import requests\n",
    "from selenium.webdriver.chrome.options import Options\n",
    "import shutil\n",
    "import os\n",
    "import glob"
   ]
  },
  {
   "cell_type": "code",
   "execution_count": 49,
   "metadata": {},
   "outputs": [],
   "source": [
    "#driver = webdriver.Chrome('chrome\\\\chromedriver.exe')\n",
    "# options = webdriver.ChromeOptions()\n",
    "# preferences = {\"download.default_directory\":r\"C:\\Users\\INTEL\\Desktop\\Python\\pypy\\ram\", \"safebrowsing.enabled\":\"true\"}\n",
    "# options.add_experimental_option(\"prefs\",preferences)\n",
    "# driver = webdriver.Chrome(options=options ,executable_path='chrome\\\\chromedriver.exe')"
   ]
  },
  {
   "cell_type": "code",
   "execution_count": 50,
   "metadata": {},
   "outputs": [],
   "source": [
    "#driver.get('https://repo1.maven.org/maven2/org/apache/commons/commons-lang3/3.9/commons-lang3-3.9.jar')"
   ]
  },
  {
   "cell_type": "code",
   "execution_count": 51,
   "metadata": {},
   "outputs": [
    {
     "data": {
      "text/plain": [
       "503880"
      ]
     },
     "execution_count": 51,
     "metadata": {},
     "output_type": "execute_result"
    }
   ],
   "source": [
    "url = \"https://repo1.maven.org/maven2/org/apache/commons/commons-lang3/3.9/commons-lang3-3.9.jar\"\n",
    "r = requests.get(url, allow_redirects=True)\n",
    "open('ram\\\\ram.jar', 'wb').write(r.content)\n"
   ]
  },
  {
   "cell_type": "code",
   "execution_count": 63,
   "metadata": {},
   "outputs": [
    {
     "name": "stdout",
     "output_type": "stream",
     "text": [
      "b'Copyright 2001-2018 The Apache Software Foundation\\n'\n"
     ]
    }
   ],
   "source": [
    "from zipfile import ZipFile\n",
    "# Create a ZipFile Object and load sample.zip in it\n",
    "with ZipFile('ram\\\\ram.jar', 'r') as zipObj:\n",
    "   # Get list of files names in zip\n",
    "    listOfiles = zipObj.namelist()\n",
    "   # Iterate over the list of file names in given list & print them\n",
    "    for elem in listOfiles:\n",
    "        #print(elem)\n",
    "        #if(elem.endswith('NOTICE.txt'):\n",
    "        if (\"NOTICE.txt\" in elem or \"NOTICE\" in elem or \"notice.txt\" in elem):\n",
    "            notice = elem\n",
    "            break\n",
    "    ifile = zipObj.open(notice)\n",
    "    for l in ifile:\n",
    "        if (\"Copyright\".encode() in l):\n",
    "            cop =l\n",
    "            break\n",
    "\n",
    "print(cop)\n"
   ]
  },
  {
   "cell_type": "code",
   "execution_count": null,
   "metadata": {},
   "outputs": [],
   "source": []
  },
  {
   "cell_type": "code",
   "execution_count": 53,
   "metadata": {},
   "outputs": [],
   "source": [
    "#os.remove(\"ram\\\\ram.jar\")"
   ]
  },
  {
   "cell_type": "code",
   "execution_count": null,
   "metadata": {},
   "outputs": [],
   "source": []
  }
 ],
 "metadata": {
  "kernelspec": {
   "display_name": "Python 3",
   "language": "python",
   "name": "python3"
  },
  "language_info": {
   "codemirror_mode": {
    "name": "ipython",
    "version": 3
   },
   "file_extension": ".py",
   "mimetype": "text/x-python",
   "name": "python",
   "nbconvert_exporter": "python",
   "pygments_lexer": "ipython3",
   "version": "3.7.0"
  }
 },
 "nbformat": 4,
 "nbformat_minor": 2
}
